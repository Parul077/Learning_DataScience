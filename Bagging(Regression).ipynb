{
  "nbformat": 4,
  "nbformat_minor": 0,
  "metadata": {
    "colab": {
      "provenance": [],
      "authorship_tag": "ABX9TyPFUzHS1USkw73HTl0b8CI6",
      "include_colab_link": true
    },
    "kernelspec": {
      "name": "python3",
      "display_name": "Python 3"
    },
    "language_info": {
      "name": "python"
    }
  },
  "cells": [
    {
      "cell_type": "markdown",
      "metadata": {
        "id": "view-in-github",
        "colab_type": "text"
      },
      "source": [
        "<a href=\"https://colab.research.google.com/github/Parul077/Learning_DataScience/blob/main/Bagging(Regression).ipynb\" target=\"_parent\"><img src=\"https://colab.research.google.com/assets/colab-badge.svg\" alt=\"Open In Colab\"/></a>"
      ]
    },
    {
      "cell_type": "code",
      "execution_count": 2,
      "metadata": {
        "id": "qOxAX8Ahcj8p"
      },
      "outputs": [],
      "source": [
        "import numpy as np\n",
        "import pandas as pad\n",
        "import matplotlib.pyplot as plt\n",
        "\n",
        "from sklearn.datasets import make_regression\n",
        "from sklearn.metrics import r2_score, mean_squared_error, mean_absolute_error, root_mean_squared_error\n",
        "from sklearn.ensemble import RandomForestRegressor, BaggingRegressor\n",
        "from sklearn.tree import DecisionTreeRegressor\n",
        "from sklearn.svm import SVR\n",
        "from sklearn.model_selection import train_test_split"
      ]
    },
    {
      "cell_type": "code",
      "source": [
        "X,y = make_regression(n_samples=10000, n_features=10, n_informative=3)"
      ],
      "metadata": {
        "id": "_CuTthGhdZK0"
      },
      "execution_count": 3,
      "outputs": []
    },
    {
      "cell_type": "code",
      "source": [
        "X_train, X_test, y_train, y_test = train_test_split(X, y, test_size=0.2, random_state=42)"
      ],
      "metadata": {
        "id": "tlATRM0idj4X"
      },
      "execution_count": 4,
      "outputs": []
    },
    {
      "cell_type": "code",
      "source": [
        "model_dt = DecisionTreeRegressor(random_state=42)\n",
        "model_dt.fit(X_train, y_train)\n",
        "y_pred_dt = model_dt.predict(X_test)\n",
        "print(\"Decision Tree R2-Score: \", r2_score(y_test, y_pred_dt))\n",
        "print(\"Decision Tree MAE: \", mean_absolute_error(y_test, y_pred_dt))\n",
        "print(\"Decision Tree MSE: \", mean_squared_error(y_test, y_pred_dt))\n",
        "print(\"Decision Tree RMSE: \", np.sqrt(mean_squared_error(y_test, y_pred_dt)))"
      ],
      "metadata": {
        "colab": {
          "base_uri": "https://localhost:8080/"
        },
        "id": "jtLMjjlqdqRo",
        "outputId": "3868960e-139b-4450-e6e4-ec1342e0e1b1"
      },
      "execution_count": 5,
      "outputs": [
        {
          "output_type": "stream",
          "name": "stdout",
          "text": [
            "Decision Tree R2-Score:  0.9961276112745894\n",
            "Decision Tree MAE:  2.9514891562647136\n",
            "Decision Tree MSE:  16.66339245274201\n",
            "Decision Tree RMSE:  4.082081877270715\n"
          ]
        }
      ]
    },
    {
      "cell_type": "markdown",
      "source": [
        "##**Bagging**"
      ],
      "metadata": {
        "id": "9HhRiI7refGR"
      }
    },
    {
      "cell_type": "code",
      "source": [
        "bag = BaggingRegressor(\n",
        "    estimator=DecisionTreeRegressor(),\n",
        "    n_estimators=500,\n",
        "    max_samples=0.5,\n",
        "    bootstrap=True,\n",
        "    random_state=42\n",
        ")\n",
        "\n",
        "bag.fit(X_train, y_train)\n",
        "y_pred_bag = bag.predict(X_test)\n",
        "print(\"Bagging R2-Score: \", r2_score(y_test, y_pred_bag))\n",
        "print(\"Bagging MAE: \", mean_absolute_error(y_test, y_pred_bag))\n",
        "print(\"Bagging MSE: \", mean_squared_error(y_test, y_pred_bag))\n",
        "print(\"Bagging RMSE: \", np.sqrt(mean_squared_error(y_test, y_pred_bag)))"
      ],
      "metadata": {
        "colab": {
          "base_uri": "https://localhost:8080/"
        },
        "id": "LGZL-49IeZFu",
        "outputId": "6893582c-0c83-4d71-ecd3-8e1ced7e35ba"
      },
      "execution_count": 6,
      "outputs": [
        {
          "output_type": "stream",
          "name": "stdout",
          "text": [
            "Bagging R2-Score:  0.9984525216007114\n",
            "Bagging MAE:  1.6366676253802888\n",
            "Bagging MSE:  6.659000866901136\n",
            "Bagging RMSE:  2.580503994746208\n"
          ]
        }
      ]
    },
    {
      "cell_type": "markdown",
      "source": [
        "## **Random Forest**"
      ],
      "metadata": {
        "id": "qAX_q58nfCYQ"
      }
    },
    {
      "cell_type": "code",
      "source": [
        "model_rf = RandomForestRegressor(random_state=42, n_estimators=500)\n",
        "model_rf.fit(X_train, y_train)\n",
        "y_pred_rf = model_rf.predict(X_test)\n",
        "\n",
        "print(\"Random Forest R2-Score: \", r2_score(y_test, y_pred_rf))\n",
        "print(\"Random Forest MAE: \", mean_absolute_error(y_test, y_pred_rf))\n",
        "print(\"Random Forest MSE: \", mean_squared_error(y_test, y_pred_rf))\n",
        "print(\"Random Forest RMSE: \", np.sqrt(mean_squared_error(y_test, y_pred_rf)))"
      ],
      "metadata": {
        "colab": {
          "base_uri": "https://localhost:8080/"
        },
        "id": "PVSkxOo_eMcz",
        "outputId": "6440c156-bd7c-4d2f-ef79-b03c1fcf514b"
      },
      "execution_count": 7,
      "outputs": [
        {
          "output_type": "stream",
          "name": "stdout",
          "text": [
            "Random Forest R2-Score:  0.9987999391444204\n",
            "Random Forest MAE:  1.4642881290489236\n",
            "Random Forest MSE:  5.1640179800324315\n",
            "Random Forest RMSE:  2.2724475747599615\n"
          ]
        }
      ]
    },
    {
      "cell_type": "markdown",
      "source": [
        "## **Bagging using SVM**"
      ],
      "metadata": {
        "id": "5R_SE63Fjqfj"
      }
    },
    {
      "cell_type": "code",
      "source": [
        "bag_svm = BaggingRegressor(\n",
        "    estimator=SVR(),\n",
        "    n_estimators=500,\n",
        "    max_samples=0.25,\n",
        "    bootstrap=True,\n",
        "    random_state=42\n",
        ")\n",
        "\n",
        "bag_svm.fit(X_train, y_train)\n",
        "y_pred_bag_svm = bag_svm.predict(X_test)\n",
        "print(\"Bagging using SVM R2-Score: \", r2_score(y_test, y_pred_bag_svm))\n",
        "print(\"Bagging using SVM MAE: \", mean_absolute_error(y_test, y_pred_bag_svm))\n",
        "print(\"Bagging using SVM MSE: \", mean_squared_error(y_test, y_pred_bag_svm))\n",
        "print(\"Bagging using SVM RMSE: \", np.sqrt(mean_squared_error(y_test, y_pred_bag_svm)))\n"
      ],
      "metadata": {
        "colab": {
          "base_uri": "https://localhost:8080/"
        },
        "id": "wgxxqHRWfXX2",
        "outputId": "ca7c859b-8cfb-4330-eaef-a0bc709fc9da"
      },
      "execution_count": 8,
      "outputs": [
        {
          "output_type": "stream",
          "name": "stdout",
          "text": [
            "Bagging using SVM R2-Score:  0.7780575124332312\n",
            "Bagging using SVM MAE:  20.396152992556967\n",
            "Bagging using SVM MSE:  955.0473969709093\n",
            "Bagging using SVM RMSE:  30.90384113619065\n"
          ]
        }
      ]
    },
    {
      "cell_type": "markdown",
      "source": [
        "## **Pasting**"
      ],
      "metadata": {
        "id": "TwqxnXf_kVWE"
      }
    },
    {
      "cell_type": "code",
      "source": [
        "pasting = BaggingRegressor(\n",
        "    estimator=DecisionTreeRegressor(),\n",
        "    n_estimators=500,\n",
        "    max_samples=0.25,\n",
        "    bootstrap=False,\n",
        "    random_state=42)\n",
        "\n",
        "pasting.fit(X_train, y_train)\n",
        "y_pred_pasting = pasting.predict(X_test)\n",
        "print(\"Pasting R2-Score: \", r2_score(y_test, y_pred_pasting))\n",
        "print(\"Pasting MAE: \", mean_absolute_error(y_test, y_pred_pasting))\n",
        "print(\"Pasting MSE: \", mean_squared_error(y_test, y_pred_pasting))\n",
        "print(\"Pasting RMSE: \", np.sqrt(mean_squared_error(y_test, y_pred_pasting)))\n"
      ],
      "metadata": {
        "colab": {
          "base_uri": "https://localhost:8080/"
        },
        "id": "fJ3tEMcUj-la",
        "outputId": "52fc370b-650f-49d5-b4ae-de7b8bbbd10f"
      },
      "execution_count": 9,
      "outputs": [
        {
          "output_type": "stream",
          "name": "stdout",
          "text": [
            "Pasting R2-Score:  0.9979037461564515\n",
            "Pasting MAE:  1.8874340882702845\n",
            "Pasting MSE:  9.020452994918163\n",
            "Pasting RMSE:  3.003406897994037\n"
          ]
        }
      ]
    },
    {
      "cell_type": "code",
      "source": [],
      "metadata": {
        "id": "HP2gn7eTklDM"
      },
      "execution_count": null,
      "outputs": []
    }
  ]
}